{
 "cells": [
  {
   "cell_type": "code",
   "execution_count": 23,
   "id": "4f6720fc",
   "metadata": {},
   "outputs": [
    {
     "name": "stdout",
     "output_type": "stream",
     "text": [
      "Welcome to the PyPassword Generator!\n",
      "\n"
     ]
    }
   ],
   "source": [
    "# Password generator\n",
    "\n",
    "print(\"Welcome to the PyPassword Generator!\\n\")\n",
    "\n",
    "password = []  # empty list for value appends"
   ]
  },
  {
   "cell_type": "code",
   "execution_count": 24,
   "id": "bd65d022",
   "metadata": {},
   "outputs": [
    {
     "name": "stdout",
     "output_type": "stream",
     "text": [
      "how many letters would you like in your password? \n",
      "6\n",
      "['W', 'Z', 'Z', 'y', 'f', 'r']\n"
     ]
    }
   ],
   "source": [
    "# appending random letters to list\n",
    "\n",
    "\n",
    "\n",
    "\n",
    "pass_length = int(input(\"how many letters would you like in your password? \\n\")) \n",
    "\n",
    "# Looping through ascii_letters constant in string module to get random letters\n",
    "for i in range(0,pass_length):\n",
    "    password.append(random.choice(string.ascii_letters)) \n",
    "\n",
    "# print(password)"
   ]
  },
  {
   "cell_type": "code",
   "execution_count": 25,
   "id": "c7fbc10d",
   "metadata": {},
   "outputs": [
    {
     "name": "stdout",
     "output_type": "stream",
     "text": [
      "how many integers you want in your password? \n",
      "5\n"
     ]
    }
   ],
   "source": [
    "# appending random digits to list\n",
    "\n",
    "int_length = int(input(\"how many integers you want in your password? \\n\"))\n",
    "\n",
    "# Looping through digits constant in string module to get random digits\n",
    "for i in range(0,int_length):\n",
    "    password.append(random.choice(string.digits)) \n",
    "    \n",
    "# print(password)"
   ]
  },
  {
   "cell_type": "code",
   "execution_count": 26,
   "id": "e76f50bd",
   "metadata": {},
   "outputs": [
    {
     "name": "stdout",
     "output_type": "stream",
     "text": [
      "How many symbols you want in your password? \n",
      "4\n"
     ]
    }
   ],
   "source": [
    "# appending random digits to list\n",
    "\n",
    "symbol_length = int(input(\"How many symbols you want in your password? \\n\"))\n",
    "\n",
    "# Looping through punctuation constant in string module to get random punctuations\n",
    "for i in range(0,symbol_length):\n",
    "    password.append(random.choice(string.punctuation)) \n",
    "    \n",
    "# print(password)"
   ]
  },
  {
   "cell_type": "code",
   "execution_count": 27,
   "id": "265f0a76",
   "metadata": {},
   "outputs": [],
   "source": [
    "random.shuffle(password)  # shuffle the list\n",
    "# print(password)\n",
    "password = ''.join(password)  # join the string chars together from the list"
   ]
  },
  {
   "cell_type": "code",
   "execution_count": 28,
   "id": "f1dff959",
   "metadata": {},
   "outputs": [
    {
     "name": "stdout",
     "output_type": "stream",
     "text": [
      "Here is your password: ^Z%|WZ5<yr3776f\n"
     ]
    }
   ],
   "source": [
    "print(f\"Here is your password: {password}\")"
   ]
  }
 ],
 "metadata": {
  "kernelspec": {
   "display_name": "Python 3",
   "language": "python",
   "name": "python3"
  },
  "language_info": {
   "codemirror_mode": {
    "name": "ipython",
    "version": 3
   },
   "file_extension": ".py",
   "mimetype": "text/x-python",
   "name": "python",
   "nbconvert_exporter": "python",
   "pygments_lexer": "ipython3",
   "version": "3.8.8"
  }
 },
 "nbformat": 4,
 "nbformat_minor": 5
}
