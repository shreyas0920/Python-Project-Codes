{
 "cells": [
  {
   "cell_type": "code",
   "execution_count": null,
   "id": "32b18ab0",
   "metadata": {},
   "outputs": [],
   "source": [
    "# put rock pap and sciss string in a dictionary\n",
    "\n",
    "elements = {'rock': \"\"\"\n",
    "    _______\n",
    "---'   ____)\n",
    "      (_____)\n",
    "      (_____)\n",
    "      (____)\n",
    "---.__(___)\n",
    "\"\"\", 'paper': \"\"\"\n",
    "     _______\n",
    "---'    ____)____\n",
    "           ______)\n",
    "          _______)\n",
    "         _______)\n",
    "---.__________)\n",
    "\"\"\", 'scissor': \"\"\"\n",
    "    _______\n",
    "---'   ____)____\n",
    "          ______)\n",
    "       __________)\n",
    "      (____)\n",
    "---.__(___)\n",
    "\"\"\"}"
   ]
  },
  {
   "cell_type": "code",
   "execution_count": null,
   "id": "a4bbd286",
   "metadata": {},
   "outputs": [],
   "source": [
    "import random   # importing random module\n",
    "# while condition to continue the game until user wants to play else break\n",
    "while True:\n",
    "    player_choice = input(\"What do you choose? rock, paper or scissor: \").lower()   # Take input from user\n",
    "\n",
    "#     Validate user input\n",
    "    if player_choice in elements:\n",
    "        player = elements[player_choice]\n",
    "    else:\n",
    "        print(\"Invalid choice\")\n",
    "        continue\n",
    "\n",
    "    print(player)   # print the player choice\n",
    "    \n",
    "    # assign random choice of computer to a variable\n",
    "    comp_choice,value = random.choice(list(elements.items()))\n",
    "\n",
    "    print(f\"Computer chose: {value}\")\n",
    "    \n",
    "#     Conditional statement to find out the winner as per the game rules\n",
    "    if player_choice == comp_choice:\n",
    "        print(\"Tie !\")\n",
    "\n",
    "    elif(player_choice == 'rock' and comp_choice == 'scissor') or (player_choice == 'paper' and comp_choice == 'rock') or (player_choice == 'scissor' and comp_choice == 'paper'):\n",
    "        print(\"You win !\")\n",
    "\n",
    "    else:\n",
    "        print(\"You loose !\")\n",
    "    \n",
    "    play_again = input(\"Wanna play again ? 'yes' or 'no'\").lower()\n",
    "    \n",
    "    if play_again != 'yes':    # game finishes if player doesn't enter 'yes'\n",
    "        break\n",
    "    \n",
    "print(\"Thanks fo playin\")"
   ]
  },
  {
   "cell_type": "code",
   "execution_count": null,
   "id": "4f6720fc",
   "metadata": {},
   "outputs": [],
   "source": []
  }
 ],
 "metadata": {
  "kernelspec": {
   "display_name": "Python 3",
   "language": "python",
   "name": "python3"
  },
  "language_info": {
   "codemirror_mode": {
    "name": "ipython",
    "version": 3
   },
   "file_extension": ".py",
   "mimetype": "text/x-python",
   "name": "python",
   "nbconvert_exporter": "python",
   "pygments_lexer": "ipython3",
   "version": "3.8.8"
  }
 },
 "nbformat": 4,
 "nbformat_minor": 5
}
